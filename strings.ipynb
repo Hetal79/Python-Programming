{
 "cells": [
  {
   "cell_type": "code",
   "execution_count": 2,
   "metadata": {},
   "outputs": [
    {
     "name": "stdout",
     "output_type": "stream",
     "text": [
      "H\n",
      "e\n",
      "t\n",
      "a\n",
      "l\n"
     ]
    }
   ],
   "source": [
    "string= 'Hetal'\n",
    "# print(string[-1])\n",
    "\n",
    "for i in range(0,len(string)):\n",
    "    \n",
    "    print(string[i])\n"
   ]
  },
  {
   "cell_type": "raw",
   "metadata": {},
   "source": [
    "Redesign the previous code using for loop only to traverse the string in reverse order. Don’t use slice operator\n"
   ]
  },
  {
   "cell_type": "code",
   "execution_count": null,
   "metadata": {},
   "outputs": [],
   "source": []
  },
  {
   "cell_type": "code",
   "execution_count": 45,
   "metadata": {},
   "outputs": [
    {
     "name": "stdout",
     "output_type": "stream",
     "text": [
      "l\n",
      "a\n",
      "t\n",
      "e\n",
      "H\n"
     ]
    }
   ],
   "source": [
    "string= 'Hetal'\n",
    "# print(string[-1])\n",
    "\n",
    "for i in range(0,len(string)):\n",
    "    i = -1-i\n",
    "    print(string[i])\n"
   ]
  },
  {
   "cell_type": "markdown",
   "metadata": {},
   "source": [
    "###### Write a program to simulate user registration process. Your \n",
    "###### code should do the following: \n",
    "###### It should first ask the user to input his full name. If he doesn’t enter his full name then program should display the error message and again ask the user to enter full name . Repeat the process until the user types his full name.[ full name means a string with atleast 2 words separated with a space]\n",
    "###### Then it should ask the use to input his password. The rules for password are:\n",
    "###### It should contain atleast 8 lcharacters\n",
    "###### It should contain atleast 1 digit and 1 upper case letter\n",
    "###### Repeat the process until the user correctly types his \n",
    "###### Password.\n",
    "###### Finally , display the user’s first name with a THANK YOU \n",
    "###### message. Create separate functions for accepting fullname , \n",
    "###### password and returning firstname\n"
   ]
  },
  {
   "cell_type": "code",
   "execution_count": 10,
   "metadata": {},
   "outputs": [
    {
     "name": "stdout",
     "output_type": "stream",
     "text": [
      "Enter your full name:Hetal Kalaswa\n",
      "Enter your password:hetaL123\n",
      "Thank you.. Hetal\n",
      "Hetal Kalaswa \n",
      " your password is : hetaL123\n"
     ]
    }
   ],
   "source": [
    "fullname = input('Enter your full name:')\n",
    "a = fullname.split()\n",
    "\n",
    "if len(a)<2:\n",
    "    print('please enter your full name')\n",
    "    fullname = input('Enter your full name:') \n",
    "while fullname ==\"\":\n",
    "    print('please enter your full name')\n",
    "    fullname = input('Enter your full name:') \n",
    "pswd = input('Enter your password:')\n",
    "\n",
    "\n",
    "digit =0\n",
    "upper =0\n",
    "for i in pswd:\n",
    "    if i.isdigit():\n",
    "        digit +=1\n",
    "    if i.isupper():\n",
    "        upper +=1\n",
    "if len(pswd)<8:\n",
    "    print('youe password should be atleast 8 charactor long')\n",
    "    pswd = input('Enter your password:')\n",
    "elif digit<1 or upper<1:\n",
    "    print('your password should contain atleat one digit and one capital letter')\n",
    "    pswd = input('Enter your password:')\n",
    "else:\n",
    "    print('Thank you..',a[0])\n",
    "def msg():\n",
    "    print(fullname,'\\n your password is :',pswd)\n",
    "msg()"
   ]
  },
  {
   "cell_type": "code",
   "execution_count": null,
   "metadata": {},
   "outputs": [
    {
     "name": "stdout",
     "output_type": "stream",
     "text": [
      "Type your full name:hrt\n",
      "Please enter your full name!\n",
      "Type your full name:jhg jh\n",
      "Type your password:iuyj\n",
      "Password must be of 8 or more characters in length\n",
      "with atleast 1 digit and 1 capital letter\n"
     ]
    }
   ],
   "source": [
    "def get_full_name():\n",
    "\twhile True:\n",
    "\t\tname=input(\"Type your full name:\").strip()\n",
    "\t\tif name.find(\" \")!=-1:\n",
    "\t\t\treturn name\n",
    "\t\tprint(\"Please enter your full name!\")\n",
    "\n",
    "def get_password():\n",
    "\twhile True:\n",
    "\t\tpwd=input(\"Type your password:\")\n",
    "\t\tcap_letter_present=False\n",
    "\t\tdigit_present=False\n",
    "\t\tfor x in pwd:\n",
    "\t\t\tif x.isdigit():\n",
    "\t\t\t\tdigit_present=True\n",
    "\t\t\telif x.isupper():\n",
    "\t\t\t\tcap_letter_present=True\n",
    "\t\tif digit_present==False or cap_letter_present==False or len(pwd)<8:\n",
    "\t\t\tprint(\"Password must be of 8 or more characters in length\\nwith atleast 1 digit and 1 capital letter\")\n",
    "\t\telse:\n",
    "\t\t\treturn pwd\n",
    "def get_first_name(fullname):\n",
    "\tspacepos=fullname.find(\" \")\n",
    "\treturn fullname[0:spacepos]\n",
    "\n",
    "fullname=get_full_name()\n",
    "pwd=get_password()\n",
    "firstname=get_first_name(fullname)\n",
    "print(\"Hello\",firstname,\"\\nThank you for joining us!\")\n"
   ]
  },
  {
   "cell_type": "code",
   "execution_count": null,
   "metadata": {},
   "outputs": [],
   "source": []
  },
  {
   "cell_type": "code",
   "execution_count": null,
   "metadata": {},
   "outputs": [],
   "source": []
  }
 ],
 "metadata": {
  "kernelspec": {
   "display_name": "Python 3",
   "language": "python",
   "name": "python3"
  },
  "language_info": {
   "codemirror_mode": {
    "name": "ipython",
    "version": 3
   },
   "file_extension": ".py",
   "mimetype": "text/x-python",
   "name": "python",
   "nbconvert_exporter": "python",
   "pygments_lexer": "ipython3",
   "version": "3.7.6"
  }
 },
 "nbformat": 4,
 "nbformat_minor": 4
}
