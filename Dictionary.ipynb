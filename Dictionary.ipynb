{
 "cells": [
  {
   "cell_type": "raw",
   "metadata": {},
   "source": [
    "Write a program to create a dictionary called accounts \n",
    "containing account id and balance of account holders . \n",
    "Initialize it with the following data:\n",
    "101: 50000\n",
    "102:45000\n",
    "103:55000\n",
    "Now ask the user to input an account id and amount . If \n",
    "the account id is present in the dictionary then update the \n",
    "balance by adding the amount given otherwise add a new \n",
    "entry of account id and balance in the dictionary. Finally \n",
    "print all the accounts details.\n"
   ]
  },
  {
   "cell_type": "code",
   "execution_count": 6,
   "metadata": {},
   "outputs": [
    {
     "name": "stdout",
     "output_type": "stream",
     "text": [
      "Enter your id: 105\n",
      "Enter amount: 10000\n",
      "new account created\n",
      "{101: 500000, 102: 45000, 103: 55000, 105: 10000}\n"
     ]
    }
   ],
   "source": [
    "accounts ={101:500000,102:45000,103:55000}\n",
    "uid = int(input('Enter your id: '))\n",
    "amount = int(input('Enter amount: '))\n",
    "if uid in accounts:\n",
    "    print('account updated')\n",
    "    accounts[uid] = accounts[uid] + amount\n",
    "else:\n",
    "    print('new account created')\n",
    "    data = {uid : amount}\n",
    "    accounts.update(data)\n",
    "print(accounts)"
   ]
  },
  {
   "cell_type": "markdown",
   "metadata": {},
   "source": [
    "#### Write a program to create a dictionary called players accept names of 5 players and their runs from the user.\n",
    "####  Now find out the highest score"
   ]
  },
  {
   "cell_type": "code",
   "execution_count": 8,
   "metadata": {},
   "outputs": [
    {
     "name": "stdout",
     "output_type": "stream",
     "text": [
      "Enter total players in team: 3\n",
      "Enter name of player: Hetal\n",
      "Enter run of player:300\n",
      "Enter name of player: Haresh\n",
      "Enter run of player:200\n",
      "Enter name of player: Akshay\n",
      "Enter run of player:100\n",
      "{'Hetal': 300, 'Haresh': 200, 'Akshay': 100}\n",
      "Hetal has highest runs and the runs are300\n"
     ]
    }
   ],
   "source": [
    "length = int(input('Enter total players in team: '))\n",
    "players ={}\n",
    "for i in range(0,length):\n",
    "    name = input('Enter name of player: ')\n",
    "    runs = int(input('Enter run of player:'))\n",
    "    data = {name:runs}\n",
    "    players.update(data)\n",
    "\n",
    "# print(players)\n",
    "print(max(players),'has highest runs and the runs are ',end=\"\")\n",
    "print(max(players.values()))"
   ]
  },
  {
   "cell_type": "markdown",
   "metadata": {},
   "source": [
    "### Write a program to produce a copy of the dictionary cars using dictionary comprehension \n"
   ]
  },
  {
   "cell_type": "code",
   "execution_count": 7,
   "metadata": {},
   "outputs": [
    {
     "name": "stdout",
     "output_type": "stream",
     "text": [
      "{1, 2}\n"
     ]
    }
   ],
   "source": [
    "cars = {1:'audi',2:'BMW'}\n",
    "newcar ={k for k,v in cars.items()}\n",
    "print(newcar)"
   ]
  },
  {
   "cell_type": "markdown",
   "metadata": {},
   "source": [
    "### Write a program to produce a new dictionary from the given dictionary with the values of each key getting doubled\n"
   ]
  },
  {
   "cell_type": "code",
   "execution_count": 9,
   "metadata": {},
   "outputs": [
    {
     "name": "stdout",
     "output_type": "stream",
     "text": [
      "{'a': 1, 'b': 2, 'c': 3, 'd': 4, 'e': 5}\n",
      "{'a': 1, 'b': 4, 'c': 9, 'd': 16, 'e': 25}\n"
     ]
    }
   ],
   "source": [
    "dict1 ={'a':1,'b':2,'c':3,'d':4,'e':5}\n",
    "double ={a:v**2 for a,v in dict1.items()}\n",
    "print(dict1)\n",
    "print(double)"
   ]
  },
  {
   "cell_type": "code",
   "execution_count": 12,
   "metadata": {},
   "outputs": [
    {
     "name": "stdout",
     "output_type": "stream",
     "text": [
      "{'a': 1, 'b': 2, 'c': 3, 'd': 4, 'e': 5}\n",
      "{'aa': 1, 'bb': 2, 'cc': 3, 'dd': 4, 'ee': 5}\n"
     ]
    }
   ],
   "source": [
    "# Write a program to produce a new dictionary from the given dictionary with the keys of each key getting doubled\n",
    "dict1 ={'a':1,'b':2,'c':3,'d':4,'e':5}\n",
    "double ={a*2:v for a,v in dict1.items()}\n",
    "print(dict1)\n",
    "print(double)"
   ]
  },
  {
   "cell_type": "markdown",
   "metadata": {},
   "source": [
    "### Write a program to accept a string from the user and print the frequency count of it’s letters , i.e. how many times each letter is occuring in the string\n"
   ]
  },
  {
   "cell_type": "code",
   "execution_count": 17,
   "metadata": {},
   "outputs": [
    {
     "name": "stdout",
     "output_type": "stream",
     "text": [
      "Enter a stringmera bharat mahan mera bharat mahan\n",
      "{'m': 4, 'e': 2, 'r': 4, 'a': 10, ' ': 5, 'b': 2, 'h': 4, 't': 2, 'n': 2}\n"
     ]
    }
   ],
   "source": [
    "string = input('Enter a string')\n",
    "count=0\n",
    "dict1 ={}\n",
    "for i in string:\n",
    "#     print(string.count(i))\n",
    "    data = {i: string.count(i)}\n",
    "    dict1.update(data)\n",
    "print(dict1)"
   ]
  },
  {
   "cell_type": "markdown",
   "metadata": {},
   "source": [
    "#### Write a program to produce a new dictionary from the given dictionary but with the value should be the string “EVEN” for even values and “ODD” for odd values\n"
   ]
  },
  {
   "cell_type": "code",
   "execution_count": 20,
   "metadata": {},
   "outputs": [
    {
     "name": "stdout",
     "output_type": "stream",
     "text": [
      "{'a': 'odd', 'b': 'even', 'c': 'odd', 'd': 'even'}\n"
     ]
    }
   ],
   "source": [
    "dict1 = {'a':1,'b':2,'c':3,'d':4}\n",
    "newdict = {k:'even' if v%2==0 else 'odd' for k,v in dict1.items()}\n",
    "print(newdict)"
   ]
  },
  {
   "cell_type": "code",
   "execution_count": null,
   "metadata": {},
   "outputs": [],
   "source": []
  }
 ],
 "metadata": {
  "kernelspec": {
   "display_name": "Python 3",
   "language": "python",
   "name": "python3"
  },
  "language_info": {
   "codemirror_mode": {
    "name": "ipython",
    "version": 3
   },
   "file_extension": ".py",
   "mimetype": "text/x-python",
   "name": "python",
   "nbconvert_exporter": "python",
   "pygments_lexer": "ipython3",
   "version": "3.7.6"
  }
 },
 "nbformat": 4,
 "nbformat_minor": 4
}
