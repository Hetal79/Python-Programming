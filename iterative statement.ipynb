{
 "cells": [
  {
   "cell_type": "markdown",
   "metadata": {},
   "source": [
    "### *Write a program to accept a string from the user and display it vertically but don’t display the vowels in it.*\n"
   ]
  },
  {
   "cell_type": "code",
   "execution_count": 3,
   "metadata": {},
   "outputs": [
    {
     "name": "stdout",
     "output_type": "stream",
     "text": [
      "Enter a string:hetal\n",
      "h\n",
      "t\n",
      "l\n"
     ]
    }
   ],
   "source": [
    "string = input('Enter a string:')\n",
    "for i in string:\n",
    "    if i in 'aeiou':\n",
    "#         continue\n",
    "            pass\n",
    "    else:\n",
    "        print(i)"
   ]
  },
  {
   "cell_type": "markdown",
   "metadata": {},
   "source": [
    "### Write a program to continuously accept ntegers from the user until the user types 0 and as soon as 0 is entered display sum of all the nos entered before 0\n"
   ]
  },
  {
   "cell_type": "code",
   "execution_count": 3,
   "metadata": {},
   "outputs": [
    {
     "name": "stdout",
     "output_type": "stream",
     "text": [
      "Enter any number between 1,  to 100 23\n",
      "Enter any number between 1,  to 100 43\n",
      "Enter any number between 1,  to 100 0\n",
      "66\n"
     ]
    }
   ],
   "source": [
    "lst = []\n",
    "num = int(input('Enter any number between 1,  to 100 '))\n",
    "lst.append(num)\n",
    "sum1 =0\n",
    "while num != 0:\n",
    "        num = int(input('Enter any number between 1,  to 100 '))\n",
    "        lst.append(num)\n",
    "#         print(num)\n",
    "        \n",
    "for i in lst:\n",
    "    sum1 = sum1 + i\n",
    "    \n",
    "print(sum1)\n",
    "    \n",
    "   \n",
    "    "
   ]
  },
  {
   "cell_type": "markdown",
   "metadata": {},
   "source": [
    "### Write a program to accept an integer from the user and display the sum of all the numbers from 1 to that number."
   ]
  },
  {
   "cell_type": "code",
   "execution_count": 2,
   "metadata": {},
   "outputs": [
    {
     "name": "stdout",
     "output_type": "stream",
     "text": [
      "Enter any number in range 1 to 100: \n",
      "50\n",
      "1275\n"
     ]
    }
   ],
   "source": [
    "num = int(input('Enter any number in range 1 to 100: \\n'))\n",
    "sum = 0\n",
    "for i in range(1,num+1):\n",
    "    sum = sum + i\n",
    "print(sum)"
   ]
  },
  {
   "cell_type": "markdown",
   "metadata": {},
   "source": [
    "### Write a program to accept an integer from the user and calculate it’s factorial\n"
   ]
  },
  {
   "cell_type": "code",
   "execution_count": 11,
   "metadata": {},
   "outputs": [
    {
     "name": "stdout",
     "output_type": "stream",
     "text": [
      "Enter a number:\n",
      " 5\n",
      "1\n",
      "2\n",
      "6\n",
      "24\n",
      "120\n"
     ]
    }
   ],
   "source": [
    "num = int(input('Enter a number:\\n '))\n",
    "def fact(num):\n",
    "#     if num<0:\n",
    "#         return 'please Enter a positive integer'\n",
    "    if num ==1 or num ==0:\n",
    "        return 1\n",
    "    else:\n",
    "        return num * fact(num-1)\n",
    "# result = fact(num)\n",
    "# print(result)\n",
    "for i in range(1,num+1):\n",
    "    result = fact(i)\n",
    "    print(result)"
   ]
  },
  {
   "cell_type": "raw",
   "metadata": {},
   "source": [
    "Write a program to print the following pattern \n",
    "***\n",
    "***\n",
    "***\n",
    "***"
   ]
  },
  {
   "cell_type": "code",
   "execution_count": 19,
   "metadata": {},
   "outputs": [
    {
     "name": "stdout",
     "output_type": "stream",
     "text": [
      "***\n",
      "***\n",
      "***\n",
      "***\n"
     ]
    }
   ],
   "source": [
    "for i in range(1,5):\n",
    "    for j in range(1,4):\n",
    "        print('*',end=\"\")\n",
    "#     print('\\n')\n",
    "    print()"
   ]
  },
  {
   "cell_type": "raw",
   "metadata": {},
   "source": [
    "Write a program to print the following pattern \n",
    "*\n",
    "**\n",
    "***\n",
    "****"
   ]
  },
  {
   "cell_type": "code",
   "execution_count": 22,
   "metadata": {},
   "outputs": [
    {
     "name": "stdout",
     "output_type": "stream",
     "text": [
      "*\n",
      "**\n",
      "***\n",
      "****\n"
     ]
    }
   ],
   "source": [
    "# for i in range(1,5):\n",
    "for j in range(1,5):\n",
    "    print('*'*j)\n",
    "    "
   ]
  },
  {
   "cell_type": "raw",
   "metadata": {},
   "source": [
    "Write a program to print the following pattern \n",
    "****\n",
    "***\n",
    "**\n",
    "*"
   ]
  },
  {
   "cell_type": "code",
   "execution_count": 25,
   "metadata": {},
   "outputs": [
    {
     "name": "stdout",
     "output_type": "stream",
     "text": [
      "****\n",
      "***\n",
      "**\n",
      "*\n"
     ]
    }
   ],
   "source": [
    "for i in range(4,0,-1):\n",
    "    print('*'*i)"
   ]
  },
  {
   "cell_type": "raw",
   "metadata": {},
   "source": [
    "Write a program to accept an integer from the user and display all the numbers from 1 \n",
    "to that number. Repeat the process until the user enters 0.\n"
   ]
  },
  {
   "cell_type": "code",
   "execution_count": 1,
   "metadata": {},
   "outputs": [
    {
     "name": "stdout",
     "output_type": "stream",
     "text": [
      "Enter a positive integer:5\n",
      "1\n",
      "2\n",
      "3\n",
      "4\n",
      "5\n",
      "Enter a positive integer:2\n",
      "1\n",
      "2\n",
      "Enter a positive integer:0\n",
      "You entered zero so you are now out of the while loop :)\n"
     ]
    }
   ],
   "source": [
    "num = int(input('Enter a positive integer:'))\n",
    "while num !=0:\n",
    "    for i in range(1,num+1):\n",
    "        print(i)\n",
    "        i +=1\n",
    "    num = int(input('Enter a positive integer:'))\n",
    "print('You entered zero so you are now out of the while loop :)') "
   ]
  },
  {
   "cell_type": "code",
   "execution_count": null,
   "metadata": {},
   "outputs": [],
   "source": []
  }
 ],
 "metadata": {
  "kernelspec": {
   "display_name": "Python 3",
   "language": "python",
   "name": "python3"
  },
  "language_info": {
   "codemirror_mode": {
    "name": "ipython",
    "version": 3
   },
   "file_extension": ".py",
   "mimetype": "text/x-python",
   "name": "python",
   "nbconvert_exporter": "python",
   "pygments_lexer": "ipython3",
   "version": "3.7.6"
  }
 },
 "nbformat": 4,
 "nbformat_minor": 4
}
