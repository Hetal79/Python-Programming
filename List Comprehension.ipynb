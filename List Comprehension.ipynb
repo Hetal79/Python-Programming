{
 "cells": [
  {
   "cell_type": "raw",
   "metadata": {},
   "source": [
    "Let's learn about list comprehensions! You are given three integers  and  representing the dimensions of a \n",
    "cuboid along with an integer . Print a list of all possible coordinates given by  on a 3D grid where the sum of \n",
    "is not equal to . Here, . Please use list comprehensions rather than multiple loops, as a learning exercise.\n",
    "\n",
    "Example\n",
    "\n",
    "\n",
    "\n",
    "\n",
    "All permutations of  are:\n",
    ".\n",
    "\n",
    "Print an array of the elements that do not sum to .\n",
    "\n",
    "\n",
    "Input Format\n",
    "\n",
    "Four integers  and , each on a separate line.\n",
    "\n",
    "Constraints\n",
    "\n",
    "Print the list in lexicographic increasing order.\n",
    "\n",
    "Sample Input 0\n",
    "\n",
    "1\n",
    "1\n",
    "1\n",
    "2\n",
    "Sample Output 0\n",
    "\n",
    "[[0, 0, 0], [0, 0, 1], [0, 1, 0], [1, 0, 0], [1, 1, 1]]\n",
    "Explanation 0\n",
    "\n",
    "Each variable  and  will have values of  or . All permutations of lists in the form .\n",
    "Remove all arrays that sum to  to leave only the valid permutations.\n",
    "\n",
    "Sample Input 1\n",
    "\n",
    "2\n",
    "2\n",
    "2\n",
    "2\n",
    "Sample Output 1\n",
    "\n",
    "[[0, 0, 0], [0, 0, 1], [0, 1, 0], [0, 1, 2], [0, 2, 1], [0, 2, 2], [1, 0, 0], [1, 0, 2], [1, 1, 1], [1, 1, 2], [1, 2, 0], [1, 2, 1], [1, 2, 2], [2, 0, 1], [2, 0, 2], [2, 1, 0], [2, 1, 1], [2, 1, 2], [2, 2, 0], [2, 2, 1], [2, 2, 2]]\n"
   ]
  },
  {
   "cell_type": "code",
   "execution_count": null,
   "metadata": {},
   "outputs": [],
   "source": [
    "if __name__ == '__main__':\n",
    "    x = int(input())\n",
    "    y = int(input())\n",
    "    z = int(input())\n",
    "    n = int(input())\n",
    "    \n",
    "def sum(x,y,z,n):\n",
    "    sum = 0\n",
    "    sum = x + y +z\n",
    "    lst=[]\n",
    "    if sum == n:\n",
    "        pass\n",
    "    else:\n",
    "        print()"
   ]
  },
  {
   "cell_type": "raw",
   "metadata": {},
   "source": [
    "Write a program to produce square of nos from 1 to 5 , store them in a list and print the list.\n",
    "\n",
    "Do the code using:\n",
    "Normal for loop\n",
    "List Comprehension\n",
    "\n",
    "\n",
    "Output:\n",
    "\n",
    "[1,4,9,16,25]\n"
   ]
  },
  {
   "cell_type": "code",
   "execution_count": 1,
   "metadata": {},
   "outputs": [
    {
     "name": "stdout",
     "output_type": "stream",
     "text": [
      "[1, 4, 9, 16, 25]\n"
     ]
    }
   ],
   "source": [
    "lst = []\n",
    "for i in range(1,6):\n",
    "    r = i*i\n",
    "    lst.append(r)\n",
    "print(lst)"
   ]
  },
  {
   "cell_type": "code",
   "execution_count": 2,
   "metadata": {},
   "outputs": [
    {
     "name": "stdout",
     "output_type": "stream",
     "text": [
      "[1, 4, 9, 16, 25]\n"
     ]
    }
   ],
   "source": [
    "lst = [i**2 for i in range(1,6)]\n",
    "print(lst)"
   ]
  },
  {
   "cell_type": "raw",
   "metadata": {},
   "source": [
    "Write a program to accept a string from the user and convert each word of the given string to uppercase , store it in a list and print the list\n",
    "\n",
    "Do the code using:\n",
    "Normal for loop\n",
    "List Comprehension\n",
    "\n",
    "Output:\n",
    "Type a string : My Name is sachin\n",
    "['MY','NAME','IS','SACHIN']"
   ]
  },
  {
   "cell_type": "code",
   "execution_count": 11,
   "metadata": {},
   "outputs": [
    {
     "name": "stdout",
     "output_type": "stream",
     "text": [
      "Type a string:My name is sachin\n",
      "['MY', 'NAME', 'IS', 'SACHIN']\n"
     ]
    }
   ],
   "source": [
    "str1 = input('Type a string:')\n",
    "lst = []\n",
    "str1 = str1.upper()\n",
    "\n",
    "str1 = str1.split(' ')\n",
    "\n",
    "print(str1)\n",
    "# print(str1)"
   ]
  },
  {
   "cell_type": "code",
   "execution_count": 14,
   "metadata": {},
   "outputs": [
    {
     "name": "stdout",
     "output_type": "stream",
     "text": [
      "Type a string:My name is sachin\n",
      "['MY', 'NAME', 'IS', 'SACHIN']\n"
     ]
    }
   ],
   "source": [
    "str1 = input('Type a string:')\n",
    "lst = []\n",
    "for x in str1.split():\n",
    "    lst.append(x.upper())\n",
    "    \n",
    "print(lst)"
   ]
  },
  {
   "cell_type": "code",
   "execution_count": 16,
   "metadata": {},
   "outputs": [
    {
     "name": "stdout",
     "output_type": "stream",
     "text": [
      "Type a string:djfh fjhd kgjksd\n",
      "['DJFH', 'FJHD', 'KGJKSD']\n"
     ]
    }
   ],
   "source": [
    "str1 = input('Type a string:')\n",
    "# lst = []\n",
    "lst1 = [x.upper() for x in str1.split()]\n",
    "print(lst1)"
   ]
  },
  {
   "cell_type": "raw",
   "metadata": {},
   "source": [
    "Write a program to accept 5 integers from the user and store them in a list . Now display the list and sum of the elements.\n",
    "\n",
    "Do the code using:\n",
    "Normal for loop\n",
    "List Comprehension\n"
   ]
  },
  {
   "cell_type": "code",
   "execution_count": 3,
   "metadata": {},
   "outputs": [
    {
     "name": "stdout",
     "output_type": "stream",
     "text": [
      "enter five integer number1 23 3 4 5\n",
      "list is: [1, 23, 3, 4, 5]\n",
      "sum is 36\n"
     ]
    }
   ],
   "source": [
    "s = input('enter five integer number')\n",
    "lst = []\n",
    "sum1 = 0\n",
    "for i in s.split():\n",
    "    lst.append(int(i))\n",
    "# num = map(str,int(s))   \n",
    "        \n",
    "print('list is:',lst)\n",
    "print('sum is',sum(lst))\n",
    "# print(sum1)\n"
   ]
  },
  {
   "cell_type": "code",
   "execution_count": 4,
   "metadata": {},
   "outputs": [
    {
     "name": "stdout",
     "output_type": "stream",
     "text": [
      "Enter 5 integers:1 234 55 77 88\n",
      "List is: [1, 234, 55, 77, 88]\n",
      "Sum is: 455\n"
     ]
    }
   ],
   "source": [
    "myNums=[]\n",
    "text=input(\"Enter 5 integers:\")\n",
    "for x in text.split():\n",
    "\tmyNums.append(int(x))\n",
    "\n",
    "print(\"List is:\",myNums)\n",
    "print(\"Sum is:\",sum(myNums))\n"
   ]
  },
  {
   "cell_type": "code",
   "execution_count": 9,
   "metadata": {},
   "outputs": [
    {
     "name": "stdout",
     "output_type": "stream",
     "text": [
      "Enter 5 integers:1 2 3 4 5 6 7 8 9 10\n",
      "[1, 2, 3, 4, 5, 6, 7, 8, 9, 10]\n",
      "55\n"
     ]
    }
   ],
   "source": [
    "text=input(\"Enter 5 integers:\")\n",
    "\n",
    "mylist = [int(x) for x in text.split()]\n",
    "print(mylist)\n",
    "print(sum(mylist))"
   ]
  },
  {
   "cell_type": "code",
   "execution_count": 10,
   "metadata": {},
   "outputs": [
    {
     "name": "stdout",
     "output_type": "stream",
     "text": [
      "[1, 9, 25]\n"
     ]
    }
   ],
   "source": [
    "# Write a program to produce square of only odd nos from 1 to 5 , store them in a list and print the list.\n",
    "lst = []\n",
    "lst = [i**2 for i in range(1,6) if i%2 !=0]\n",
    "print(lst)"
   ]
  },
  {
   "cell_type": "code",
   "execution_count": 2,
   "metadata": {},
   "outputs": [
    {
     "data": {
      "text/plain": [
       "['h', 'l', 'l']"
      ]
     },
     "execution_count": 2,
     "metadata": {},
     "output_type": "execute_result"
    }
   ],
   "source": [
    "# Create a function called removevowels() which accepts a string as argument and returns a list with all the vowels \n",
    "# removed from that string\n",
    "str1 = 'hello'\n",
    "lst = []\n",
    "def removevowels(str1):\n",
    "    for i in str1:\n",
    "        if i not in 'aeiou':\n",
    "            lst.append(i)\n",
    "            \n",
    "    return lst\n",
    "             \n",
    "removevowels(str1)\n"
   ]
  },
  {
   "cell_type": "code",
   "execution_count": 3,
   "metadata": {},
   "outputs": [
    {
     "name": "stdout",
     "output_type": "stream",
     "text": [
      "['h', 'l', 'l']\n"
     ]
    }
   ],
   "source": [
    "str1 = 'hello'\n",
    "lst = []\n",
    "def removevowels(str1):\n",
    "    mylist = [i for i in str1 if i not in 'aeiou']\n",
    "    print(mylist)\n",
    "    \n",
    "removevowels(str1)"
   ]
  },
  {
   "cell_type": "code",
   "execution_count": 5,
   "metadata": {},
   "outputs": [
    {
     "name": "stdout",
     "output_type": "stream",
     "text": [
      "[25, 34, 21, 22]\n"
     ]
    }
   ],
   "source": [
    "# Create a function called get_numbers() which accepts a list of strings ,\n",
    "# symbols and numbers as argument and returns a list containing  only numbers from that list.\n",
    "lst = []\n",
    "def get_numbers(string):\n",
    "    for i in string:\n",
    "        if type(i) is int:\n",
    "            lst.append(i)\n",
    "        \n",
    "    print(lst)\n",
    "    \n",
    "string = ['bhopal',25,'$','hello',34,21,'indor',22,'24']\n",
    "get_numbers(string)"
   ]
  },
  {
   "cell_type": "code",
   "execution_count": 7,
   "metadata": {},
   "outputs": [
    {
     "name": "stdout",
     "output_type": "stream",
     "text": [
      "['bhopal', 25, '$', 'hello', 34, 21, 'indor', 22, '24']\n",
      "[25, 34, 21, 22]\n"
     ]
    }
   ],
   "source": [
    "def get_numbers(string):\n",
    "    lst1 = [i for i in string if type(i) is int]\n",
    "    print(lst1)\n",
    "    \n",
    "string = ['bhopal',25,'$','hello',34,21,'indor',22,'24']\n",
    "print(string)\n",
    "get_numbers(string)"
   ]
  },
  {
   "cell_type": "code",
   "execution_count": 8,
   "metadata": {},
   "outputs": [
    {
     "name": "stdout",
     "output_type": "stream",
     "text": [
      "[1, 2, 5, 7, 4, 7]\n"
     ]
    }
   ],
   "source": [
    "# Create a function called getlength() which accepts a string  as argument and returns a list \n",
    "# containing the length of all the words of that string except the word “the”. Accept the string from the user.\n",
    "def getlength(string):\n",
    "    lst = []\n",
    "    str1 = string.split(' ')\n",
    "    for i in str1:\n",
    "        r = len(i)\n",
    "        lst.append(r)\n",
    "    print(lst)\n",
    "string = 'i am hetal kalaswa from bhiloda'\n",
    "getlength(string)"
   ]
  },
  {
   "cell_type": "code",
   "execution_count": 9,
   "metadata": {},
   "outputs": [
    {
     "name": "stdout",
     "output_type": "stream",
     "text": [
      "[1, 2, 5, 7]\n"
     ]
    }
   ],
   "source": [
    "def getlength(string):\n",
    "    lst = []\n",
    "    str1 = string.split(' ')\n",
    "    lst = [len(i) for i in str1]\n",
    "    print(lst)\n",
    "\n",
    "string = 'i am hetal kalaswa'    \n",
    "getlength(string)"
   ]
  },
  {
   "cell_type": "code",
   "execution_count": 15,
   "metadata": {},
   "outputs": [
    {
     "name": "stdout",
     "output_type": "stream",
     "text": [
      "[36, 144, 324]\n"
     ]
    }
   ],
   "source": [
    "# Write a program to produce square of only those numbers which are divisible by 2 \n",
    "# as well as 3 from 1 to 20 , store them in a list and print the list.\n",
    "lst = []\n",
    "for i in range(1,21):\n",
    "    if i**2 %2 ==0:\n",
    "        if i**2 %3 ==0:\n",
    "            lst.append(i**2)\n",
    "            \n",
    "print(lst)            "
   ]
  },
  {
   "cell_type": "code",
   "execution_count": 14,
   "metadata": {},
   "outputs": [
    {
     "name": "stdout",
     "output_type": "stream",
     "text": [
      "[36, 144, 324]\n"
     ]
    }
   ],
   "source": [
    "lst = [i**2 for i in range(1,21) if i%2==0 if i%3==0 ]\n",
    "print(lst)"
   ]
  },
  {
   "cell_type": "code",
   "execution_count": null,
   "metadata": {},
   "outputs": [],
   "source": [
    "# Write a function called get_upper( ) which accepts a string as argument and returns a \n",
    "# list containing only upper case letters but without any vowels of that string. Accept the string from the user as input\n",
    "\n"
   ]
  }
 ],
 "metadata": {
  "kernelspec": {
   "display_name": "Python 3",
   "language": "python",
   "name": "python3"
  },
  "language_info": {
   "codemirror_mode": {
    "name": "ipython",
    "version": 3
   },
   "file_extension": ".py",
   "mimetype": "text/x-python",
   "name": "python",
   "nbconvert_exporter": "python",
   "pygments_lexer": "ipython3",
   "version": "3.7.6"
  }
 },
 "nbformat": 4,
 "nbformat_minor": 4
}
