{
 "cells": [
  {
   "cell_type": "markdown",
   "metadata": {},
   "source": [
    "### How to find the sum of digits of a positive integer number using recursion ? "
   ]
  },
  {
   "cell_type": "code",
   "execution_count": 49,
   "metadata": {},
   "outputs": [
    {
     "name": "stdout",
     "output_type": "stream",
     "text": [
      "13\n"
     ]
    }
   ],
   "source": [
    "def SumOfDigit(n):\n",
    "    count = 0\n",
    "    if n<0:\n",
    "        return 'please Enter positive number'\n",
    "    elif n == 0:\n",
    "        return 0\n",
    "    else:\n",
    "        count +=1\n",
    "        return int(n%10) + SumOfDigit(n//10)\n",
    "    print(count)\n",
    "print(SumOfDigit(256))"
   ]
  },
  {
   "cell_type": "code",
   "execution_count": 40,
   "metadata": {},
   "outputs": [
    {
     "data": {
      "text/plain": [
       "2"
      ]
     },
     "execution_count": 40,
     "metadata": {},
     "output_type": "execute_result"
    }
   ],
   "source": [
    "def sum_digits(num):\n",
    "    \n",
    "    def sumofdigits(num):\n",
    "       \n",
    "        sum = 0\n",
    "        count = 0\n",
    "        \n",
    "        num = map(int,(str(num)))\n",
    "        for i in num:\n",
    "            sum = sum + i\n",
    "            count +=1\n",
    "            \n",
    "        if sum>9:\n",
    "            return sumofdigits(sum)\n",
    "        return count\n",
    "    if num < 10:\n",
    "        return 0\n",
    "    else:\n",
    "        return sumofdigits(num)\n",
    "   \n",
    "    \n",
    "sum_digits(999)"
   ]
  },
  {
   "cell_type": "code",
   "execution_count": 45,
   "metadata": {},
   "outputs": [
    {
     "data": {
      "text/plain": [
       "2"
      ]
     },
     "execution_count": 45,
     "metadata": {},
     "output_type": "execute_result"
    }
   ],
   "source": [
    "c = 1\n",
    "c+=1\n",
    "c"
   ]
  },
  {
   "cell_type": "code",
   "execution_count": 48,
   "metadata": {},
   "outputs": [
    {
     "data": {
      "text/plain": [
       "1"
      ]
     },
     "execution_count": 48,
     "metadata": {},
     "output_type": "execute_result"
    }
   ],
   "source": [
    "c = 1\n",
    "\n",
    "c=+1\n",
    "c"
   ]
  },
  {
   "cell_type": "markdown",
   "metadata": {},
   "source": [
    "# Find Intersection\n"
   ]
  },
  {
   "cell_type": "raw",
   "metadata": {},
   "source": [
    "Have the function FindIntersection(strArr) read the array of strings stored in \n",
    "strArr which will contain 2 elements: the first element will represent a list of \n",
    "comma-separated numbers sorted in ascending order, the second element will represent a \n",
    "second list of comma-separated numbers (also sorted). Your goal is to return a \n",
    "comma-separated string containing the numbers that occur in elements of strArr in \n",
    "sorted order. If there is no intersection, return the string fals"
   ]
  },
  {
   "cell_type": "raw",
   "metadata": {},
   "source": [
    "Examples\n",
    "Input: [\"1, 3, 4, 7, 13\", \"1, 2, 4, 13, 15\"]\n",
    "Output: 1,4,13\n",
    "Input: [\"1, 3, 9, 10, 17, 18\", \"1, 4, 9, 10\"]\n",
    "Output: 1,9,10\n"
   ]
  },
  {
   "cell_type": "code",
   "execution_count": 3,
   "metadata": {},
   "outputs": [
    {
     "name": "stdout",
     "output_type": "stream",
     "text": [
      "1,9,10\n"
     ]
    }
   ],
   "source": [
    "def FindIntersection(strArr):\n",
    "    \n",
    "    arr1 = strArr[0].split(',')\n",
    "    arr2 = strArr[1].split(',')\n",
    "    # print(arr1)\n",
    "    # print(arr2)\n",
    "    a1 = list(map(int,arr1))\n",
    "    a2 = list(map(int,arr2))\n",
    "    # print(a1)\n",
    "    # print(a2)\n",
    "    s = []\n",
    "    for i in a1:\n",
    "        for j in a2:\n",
    "            if i == j:\n",
    "                s.append(i)\n",
    "         \n",
    "    return print(*s,sep=',') \n",
    "strArr = [\"1, 3, 9, 10, 17, 18\", \"1, 4, 9, 10\"]\n",
    "FindIntersection(strArr)"
   ]
  },
  {
   "cell_type": "markdown",
   "metadata": {},
   "source": [
    "## TCS NQT questions "
   ]
  },
  {
   "cell_type": "markdown",
   "metadata": {},
   "source": [
    "# Find area of a circle"
   ]
  },
  {
   "cell_type": "raw",
   "metadata": {},
   "source": [
    "Write a program that asks the user to enter his/her name and age. Print out a message ,\n",
    "displaying the user’s name along with the year in which they will turn 100 years old.\n"
   ]
  },
  {
   "cell_type": "code",
   "execution_count": 1,
   "metadata": {},
   "outputs": [
    {
     "name": "stdout",
     "output_type": "stream",
     "text": [
      "1520.53\n",
      "wrong input\n"
     ]
    }
   ],
   "source": [
    "pie = 3.14159\n",
    "def areaOfCircle(r):\n",
    "    if r >=20 and r<=30:\n",
    "        area = pie*r*r\n",
    "        print(round(area,2))\n",
    "    else:\n",
    "        print('wrong input')\n",
    "        \n",
    "areaOfCircle(22)\n",
    "areaOfCircle(32)"
   ]
  },
  {
   "cell_type": "markdown",
   "metadata": {},
   "source": [
    "# Question 2\n",
    "Input = 'abcd'\n",
    "output = \"zyxw\"\n",
    "\n",
    "Input = 'pqr'\n",
    "output = 'kji'"
   ]
  },
  {
   "cell_type": "code",
   "execution_count": 3,
   "metadata": {},
   "outputs": [
    {
     "name": "stdout",
     "output_type": "stream",
     "text": [
      "pqr\n",
      "['p', 'q', 'r']\n",
      "kji"
     ]
    }
   ],
   "source": [
    "aarr = ['a','b','c','d','e','f','g','h','i','j','k','l','m','n','o','p','q','r','s','t','u','v','w','x','y','z']\n",
    "input1 = input()\n",
    "input1 = list(input1)\n",
    "print(input1)\n",
    "for i in arr:\n",
    "    for j in input1:\n",
    "        if i == j:\n",
    "            p = arr.index(i)\n",
    "            q = -1-p\n",
    "            print(arr[q],end=\"\")      "
   ]
  },
  {
   "cell_type": "code",
   "execution_count": 6,
   "metadata": {},
   "outputs": [
    {
     "name": "stdout",
     "output_type": "stream",
     "text": [
      "Enter your name:e\n",
      "Enter your age:36\n",
      "you will be 100 years old in  2083\n"
     ]
    }
   ],
   "source": [
    "name = input('Enter your name:')\n",
    "age = int(input('Enter your age:'))\n",
    "b = 100 - age\n",
    "year = b + 2019\n",
    "print('you will be 100 years old in ',year)"
   ]
  },
  {
   "cell_type": "code",
   "execution_count": null,
   "metadata": {},
   "outputs": [],
   "source": []
  }
 ],
 "metadata": {
  "kernelspec": {
   "display_name": "Python 3",
   "language": "python",
   "name": "python3"
  },
  "language_info": {
   "codemirror_mode": {
    "name": "ipython",
    "version": 3
   },
   "file_extension": ".py",
   "mimetype": "text/x-python",
   "name": "python",
   "nbconvert_exporter": "python",
   "pygments_lexer": "ipython3",
   "version": "3.7.6"
  }
 },
 "nbformat": 4,
 "nbformat_minor": 4
}
