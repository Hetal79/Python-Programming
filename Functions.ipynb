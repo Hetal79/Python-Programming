{
 "cells": [
  {
   "cell_type": "raw",
   "metadata": {},
   "source": [
    "Write a function called absolute( ) to accept an integer as argument and return it’s absolute value. \n",
    "Finally call it to get the absolute value of -7 and 9"
   ]
  },
  {
   "cell_type": "code",
   "execution_count": 6,
   "metadata": {},
   "outputs": [
    {
     "name": "stdout",
     "output_type": "stream",
     "text": [
      "7\n",
      "9\n"
     ]
    }
   ],
   "source": [
    "def absolute(integer):\n",
    "    return abs(integer)\n",
    "\n",
    "print(absolute(-7))\n",
    "print(absolute(9))"
   ]
  },
  {
   "cell_type": "raw",
   "metadata": {},
   "source": [
    "Write a function called factorial( ) which accepts a number as argument and returns it’s factorial. \n",
    "Finally call the function to calculate and return the factorial of the number given by the user.\n"
   ]
  },
  {
   "cell_type": "code",
   "execution_count": 20,
   "metadata": {},
   "outputs": [
    {
     "data": {
      "text/plain": [
       "120"
      ]
     },
     "execution_count": 20,
     "metadata": {},
     "output_type": "execute_result"
    }
   ],
   "source": [
    "def factorial(number):\n",
    "    fact =1\n",
    "    while number>1:\n",
    "        fact = fact*number\n",
    "        number = number-1\n",
    "    return fact\n",
    "factorial(5)"
   ]
  },
  {
   "cell_type": "code",
   "execution_count": 21,
   "metadata": {},
   "outputs": [
    {
     "data": {
      "text/plain": [
       "120"
      ]
     },
     "execution_count": 21,
     "metadata": {},
     "output_type": "execute_result"
    }
   ],
   "source": [
    "#using recursion\n",
    "def factorial(number):\n",
    "    if number ==1 or number ==0:\n",
    "        return 1\n",
    "    else:\n",
    "        return number * factorial(number-1)\n",
    "factorial(5)"
   ]
  },
  {
   "cell_type": "code",
   "execution_count": 22,
   "metadata": {},
   "outputs": [
    {
     "data": {
      "text/plain": [
       "(30, -10)"
      ]
     },
     "execution_count": 22,
     "metadata": {},
     "output_type": "execute_result"
    }
   ],
   "source": [
    "def calculate(a,b):\n",
    "    c = a+b\n",
    "    d = a-b\n",
    "    return c,d\n",
    "calculate(10,20)"
   ]
  },
  {
   "cell_type": "code",
   "execution_count": 23,
   "metadata": {},
   "outputs": [
    {
     "name": "stdout",
     "output_type": "stream",
     "text": [
      "the sum of p is 30\n"
     ]
    }
   ],
   "source": [
    "p = calculate(10,20)\n",
    "print('the sum of p is',p[0])"
   ]
  },
  {
   "cell_type": "code",
   "execution_count": 24,
   "metadata": {},
   "outputs": [
    {
     "name": "stdout",
     "output_type": "stream",
     "text": [
      "the differance between  p and q is -10\n"
     ]
    }
   ],
   "source": [
    "q = calculate(10,20)\n",
    "print('the differance between  p and q is',q[1])"
   ]
  },
  {
   "cell_type": "markdown",
   "metadata": {},
   "source": [
    "### Write a function called cal_area( ) using default argument concept which accepts radius and pi as arguments and calculates and displays area of the Circle. The value of pi should be used as default argument and value of radius should be accepted from the user\n"
   ]
  },
  {
   "cell_type": "code",
   "execution_count": 26,
   "metadata": {},
   "outputs": [
    {
     "name": "stdout",
     "output_type": "stream",
     "text": [
      "Enter the radius of the circle4\n"
     ]
    },
    {
     "data": {
      "text/plain": [
       "50.26544"
      ]
     },
     "execution_count": 26,
     "metadata": {},
     "output_type": "execute_result"
    }
   ],
   "source": [
    "def cal_area(r,pie=3.14159):\n",
    "    area = pie*r*r\n",
    "    return area\n",
    "r = int(input('Enter the radius of the circle'))\n",
    "cal_area(r)"
   ]
  },
  {
   "cell_type": "markdown",
   "metadata": {},
   "source": [
    "### Write a function called find_largest( ) which accepts multiple strings as argument and returns the length of the largest string\n"
   ]
  },
  {
   "cell_type": "code",
   "execution_count": 39,
   "metadata": {},
   "outputs": [
    {
     "name": "stdout",
     "output_type": "stream",
     "text": [
      "7\n",
      "8\n"
     ]
    }
   ],
   "source": [
    "def find_largest(*args):\n",
    "    max =0\n",
    "    for i in args:\n",
    "        if len(i)>max:\n",
    "            max = len(i)\n",
    "    return max\n",
    "print(find_largest('he','tal','kalaswa'))\n",
    "print(find_largest(\"January\",\"February\",\"March\"))\n"
   ]
  },
  {
   "cell_type": "markdown",
   "metadata": {},
   "source": [
    "### Modify the previous example so that the function find_largest( ) now returns the largest string itself and not it’s length\n"
   ]
  },
  {
   "cell_type": "code",
   "execution_count": 54,
   "metadata": {},
   "outputs": [
    {
     "name": "stdout",
     "output_type": "stream",
     "text": [
      "8\n",
      "None\n"
     ]
    }
   ],
   "source": [
    "def find_largest(*string):\n",
    "    max =0\n",
    "    for i in string:\n",
    "        if len(i)>max:\n",
    "                max = len(i)\n",
    "    print(max)\n",
    "    if max == len(i):\n",
    "        print(i)\n",
    "print(find_largest(\"January\",\"February\",\"March\"))\n"
   ]
  },
  {
   "cell_type": "code",
   "execution_count": 55,
   "metadata": {},
   "outputs": [
    {
     "name": "stdout",
     "output_type": "stream",
     "text": [
      "February\n"
     ]
    }
   ],
   "source": [
    "def find_largest(*strings):\n",
    "    max=0\n",
    "    largest = \"\"\n",
    "    for i in strings:\n",
    "        if len(i)>max:\n",
    "            max = len(i)\n",
    "            largest=i\n",
    "    return largest\n",
    "print(find_largest(\"January\",\"February\",\"March\"))\n"
   ]
  },
  {
   "cell_type": "code",
   "execution_count": 22,
   "metadata": {},
   "outputs": [
    {
     "name": "stdout",
     "output_type": "stream",
     "text": [
      "pqr\n",
      "['p', 'q', 'r']\n",
      "kji"
     ]
    }
   ],
   "source": [
    "arr = ['a','b','c','d','e','f','g','h','i','j','k','l','m','n','o','p','q','r','s','t','u','v','w','x','y','z']\n",
    "input1 = input()\n",
    "input1 = list(input1)\n",
    "print(input1)\n",
    "for i in arr:\n",
    "    for j in input1:\n",
    "        if i == j:\n",
    "            p = arr.index(i)\n",
    "            q = -1-p\n",
    "            print(arr[q],end=\"\")      "
   ]
  },
  {
   "cell_type": "code",
   "execution_count": 17,
   "metadata": {},
   "outputs": [
    {
     "name": "stdout",
     "output_type": "stream",
     "text": [
      "2\n"
     ]
    }
   ],
   "source": [
    "a = [1,2]\n",
    "b = a.index(2)\n",
    "print(a[b])"
   ]
  },
  {
   "cell_type": "code",
   "execution_count": null,
   "metadata": {},
   "outputs": [],
   "source": []
  }
 ],
 "metadata": {
  "kernelspec": {
   "display_name": "Python 3",
   "language": "python",
   "name": "python3"
  },
  "language_info": {
   "codemirror_mode": {
    "name": "ipython",
    "version": 3
   },
   "file_extension": ".py",
   "mimetype": "text/x-python",
   "name": "python",
   "nbconvert_exporter": "python",
   "pygments_lexer": "ipython3",
   "version": "3.7.6"
  }
 },
 "nbformat": 4,
 "nbformat_minor": 4
}
