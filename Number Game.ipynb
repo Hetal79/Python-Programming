{
 "cells": [
  {
   "cell_type": "markdown",
   "metadata": {},
   "source": [
    "#### You have to develop a number guessing game. The program will generate a random integer secretly. Now it will ask the user to guess that number . If the user guessed it correctly then the program prints “Congratulations! You guessed it right” . \n",
    "\n",
    "#### If the number guessed by the user is larger than the secret number then program should print “Number too large” and , if the number guessed by the user is smaller than the secret number then program should print “Number too small” . \n",
    "\n",
    "#### This should continue until the user guesses the number correctly or quits . If the user wants to quit in between he will have to type 0 or negative number\n",
    "\n"
   ]
  },
  {
   "cell_type": "code",
   "execution_count": 1,
   "metadata": {},
   "outputs": [
    {
     "name": "stdout",
     "output_type": "stream",
     "text": [
      "16\n"
     ]
    }
   ],
   "source": [
    "import random\n",
    "a = random.randint(1,20)\n",
    "print(a)"
   ]
  },
  {
   "cell_type": "code",
   "execution_count": 2,
   "metadata": {},
   "outputs": [
    {
     "name": "stdout",
     "output_type": "stream",
     "text": [
      "Guess the secret Number34\n",
      "Your guess is too large. Try again\n",
      "Guess the secret Number20\n",
      "Your guess is too small. Try again\n",
      "Guess the secret Number25\n",
      "Your guess is too small. Try again\n",
      "Guess the secret Number27\n",
      "Your guess is too small. Try again\n",
      "Guess the secret Number28\n",
      "Your guess is too small. Try again\n",
      "Guess the secret Number30\n",
      "Your guess is too large. Try again\n",
      "Guess the secret Number29\n",
      "congratulations ! You guessed it right!\n"
     ]
    }
   ],
   "source": [
    "import random\n",
    "secret_num = random.randint(1,100)\n",
    "guess = secret_num +1\n",
    "# guess = int(input('Guess the secret Number'))\n",
    "\n",
    "while guess != secret_num:\n",
    "    guess = int(input('Guess the secret Number'))\n",
    "    if (guess<=0):\n",
    "        print('so sorry! that you ae quitting')\n",
    "        break;\n",
    "    elif (guess > secret_num):\n",
    "        print('Your guess is too large. Try again')\n",
    "    elif (guess < secret_num):\n",
    "        print('Your guess is too small. Try again')\n",
    "else:\n",
    "    print('congratulations ! You guessed it right!')"
   ]
  },
  {
   "cell_type": "code",
   "execution_count": null,
   "metadata": {},
   "outputs": [],
   "source": []
  },
  {
   "cell_type": "code",
   "execution_count": null,
   "metadata": {},
   "outputs": [],
   "source": []
  }
 ],
 "metadata": {
  "kernelspec": {
   "display_name": "Python 3",
   "language": "python",
   "name": "python3"
  },
  "language_info": {
   "codemirror_mode": {
    "name": "ipython",
    "version": 3
   },
   "file_extension": ".py",
   "mimetype": "text/x-python",
   "name": "python",
   "nbconvert_exporter": "python",
   "pygments_lexer": "ipython3",
   "version": "3.7.6"
  }
 },
 "nbformat": 4,
 "nbformat_minor": 4
}
