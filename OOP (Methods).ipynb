{
 "cells": [
  {
   "cell_type": "raw",
   "metadata": {},
   "source": [
    "Write a program to create a class called Circle , having an instance member called radius. Provide following instance methods in\n",
    "your class:\n",
    "__init___() : This method should initialize radius with the parameter passed\n",
    "cal_area(): This method should calculate and print the radius of the Circle\n",
    "cal_circumference(): This method should calculate and print the circumference of the Circle\n",
    "Finally , in the main script , create a Circle object , initialize radius with user input and calculate and display it’s area \n",
    "and circumference\n"
   ]
  },
  {
   "cell_type": "code",
   "execution_count": 14,
   "metadata": {},
   "outputs": [
    {
     "name": "stdout",
     "output_type": "stream",
     "text": [
      "Enter radius:12\n",
      "radius of the circle is 12 area of the circle is 452.16\n",
      "circumference of the circle is: 75.36\n"
     ]
    }
   ],
   "source": [
    "#instance method\n",
    "class Circle:\n",
    "    \n",
    "    def __init__(self,r,pie=0):\n",
    "        self.radius = r\n",
    "        self.pie = 3.14\n",
    "    def cal_area(self,r):\n",
    "        \n",
    "        area = self.pie*r*r\n",
    "        print('radius of the circle is',self.radius,'area of the circle is',round(area,2))\n",
    "    def cal_circumference(self,r):\n",
    "        circum = 2*self.pie*r\n",
    "        print('circumference of the circle is:', round(circum,3))\n",
    "        \n",
    "\n",
    "r = int(input('Enter radius:'))\n",
    "c = Circle(r)\n",
    "c.cal_area(r)\n",
    "c.cal_circumference(r)"
   ]
  },
  {
   "cell_type": "markdown",
   "metadata": {},
   "source": [
    "### Write a program to create a class called Emp , having 3 instance members called name , age and sal . Also declare a class variable called raise_amount to store the increment percentage of sal and set it to 7.5 .\n",
    "#### Now provide following methods in your class\n",
    "#### __init___() : This method should initialize instance members  with the parameter passed\n",
    "#### increase_sal(): This method should calculate the increment in sal and add it to the instance member sal\n",
    "#### display(): This method should display name , age and sal of the employee\n",
    "#### Finally , in the main script , create 2 Emp objects , initialize them and increase their salary . Finally display the data\n"
   ]
  },
  {
   "cell_type": "code",
   "execution_count": 27,
   "metadata": {},
   "outputs": [
    {
     "name": "stdout",
     "output_type": "stream",
     "text": [
      "Employee details\n",
      "Hetal 20 500000\n",
      "Khushi 15 25000\n",
      "After Increment 7.5 salary is ...\n",
      "_________________________________________________\n",
      "Hetal 20 537500.0\n",
      "Khushi 15 26875.0\n"
     ]
    }
   ],
   "source": [
    "class Emp:\n",
    "    raise_amount = 7.5\n",
    "    def __init__(self,n,a,s):\n",
    "        self.name = n\n",
    "        self.age = a\n",
    "        self.sal = s\n",
    "        \n",
    "    def increase_sal(self):\n",
    "        self.sal = self.sal + (self.sal*Emp.raise_amount/100)\n",
    "    def display(self):\n",
    "        print(self.name,self.age,self.sal)\n",
    "        \n",
    "e1 = Emp('Hetal',20,500000)\n",
    "e2 = Emp('Khushi',15,25000)\n",
    "print('Employee details')\n",
    "e1.display()\n",
    "e2.display()\n",
    "print('After Increment',Emp.raise_amount,'salary is ...')\n",
    "print('_________________________________________________')\n",
    "e1.increase_sal()\n",
    "e2.increase_sal()\n",
    "e1.display()\n",
    "e2.display()\n"
   ]
  },
  {
   "cell_type": "markdown",
   "metadata": {},
   "source": [
    "### Write a program to create a class called Emp , having an instance members called name , age and sal . Also declare a class variable called raise_amount to store the increment percentage of sal and set it the value given by the user\n",
    "#### Now provide following methods in your class\n",
    "#### __init___() : This method should initialize instance members  with the parameter passed\n",
    "#### increase_sal(): This method should calculate the increment in sal and add ot to the instance member sal\n",
    "#### display(): This method should display name , age and sal of the employee\n",
    "#### Finally , in the main script , create 2 Emp objects , initialize them and increase their salary . Finally display the data\n"
   ]
  },
  {
   "cell_type": "code",
   "execution_count": 33,
   "metadata": {},
   "outputs": [
    {
     "name": "stdout",
     "output_type": "stream",
     "text": [
      "ENter raise amount8.5\n",
      "Employee details\n",
      "Hetal 20 500000\n",
      "Khushi 15 25000\n",
      "After Increment salary is ...\n",
      "_________________________________________________\n",
      "Hetal 20 542500.0\n",
      "Khushi 15 27125.0\n"
     ]
    }
   ],
   "source": [
    "class Emp:\n",
    "    raise_amount = 0\n",
    "    @classmethod\n",
    "    def set_raise_amount(cls) :\n",
    "        cls.raise_amount = float(input('ENter raise amount'))\n",
    "    def __init__(self,n,a,s):\n",
    "        self.name = n\n",
    "        self.age = a\n",
    "        self.sal = s\n",
    "        \n",
    "    def increase_sal(self):\n",
    "        self.sal = self.sal + (self.sal*Emp.raise_amount/100)\n",
    "    def display(self):\n",
    "        print(self.name,self.age,self.sal)\n",
    "Emp.set_raise_amount()       \n",
    "e1 = Emp('Hetal',20,500000)\n",
    "e2 = Emp('Khushi',15,25000)\n",
    "print('Employee details')\n",
    "e1.display()\n",
    "e2.display()\n",
    "print('After Increment','salary is ...')\n",
    "print('_________________________________________________')\n",
    "e1.increase_sal()\n",
    "e2.increase_sal()\n",
    "e1.display()\n",
    "e2.display()"
   ]
  },
  {
   "cell_type": "code",
   "execution_count": null,
   "metadata": {},
   "outputs": [],
   "source": []
  }
 ],
 "metadata": {
  "kernelspec": {
   "display_name": "Python 3",
   "language": "python",
   "name": "python3"
  },
  "language_info": {
   "codemirror_mode": {
    "name": "ipython",
    "version": 3
   },
   "file_extension": ".py",
   "mimetype": "text/x-python",
   "name": "python",
   "nbconvert_exporter": "python",
   "pygments_lexer": "ipython3",
   "version": "3.7.6"
  }
 },
 "nbformat": 4,
 "nbformat_minor": 4
}
